{
 "cells": [
  {
   "cell_type": "code",
   "execution_count": 1,
   "metadata": {},
   "outputs": [
    {
     "name": "stderr",
     "output_type": "stream",
     "text": [
      "/home/passch/.conda/envs/diffwave/lib/python3.10/site-packages/tqdm/auto.py:22: TqdmWarning: IProgress not found. Please update jupyter and ipywidgets. See https://ipywidgets.readthedocs.io/en/stable/user_install.html\n",
      "  from .autonotebook import tqdm as notebook_tqdm\n"
     ]
    }
   ],
   "source": [
    "import os\n",
    "import json\n",
    "from pathlib import Path\n",
    "from tqdm import tqdm\n",
    "\n",
    "import torch\n",
    "from torch import nn\n",
    "from torch.utils.data import WeightedRandomSampler\n",
    "import matplotlib.pyplot as plt\n",
    "import seaborn as sns\n",
    "from sklearn.metrics import accuracy_score, multilabel_confusion_matrix, confusion_matrix\n",
    "from sklearn.model_selection import train_test_split\n",
    "import numpy as np\n",
    "\n",
    "from models.brain_class_encoder import BrainClassifierV1, BrainClassifierV3\n",
    "from dataloaders.conditional_loaders import ClassConditionalLoader, ECOGLoader, get_word_from_filepath\n",
    "import dataloaders.utils as data_utils"
   ]
  },
  {
   "cell_type": "code",
   "execution_count": 2,
   "metadata": {},
   "outputs": [
    {
     "name": "stdout",
     "output_type": "stream",
     "text": [
      "env: CUDA_VISIBLE_DEVICES=1\n"
     ]
    }
   ],
   "source": [
    "%env CUDA_VISIBLE_DEVICES=1"
   ]
  },
  {
   "attachments": {},
   "cell_type": "markdown",
   "metadata": {},
   "source": [
    "## Data Preparation"
   ]
  },
  {
   "cell_type": "code",
   "execution_count": 439,
   "metadata": {},
   "outputs": [],
   "source": [
    "USE_PRECOMPUTED_SPLIT = False\n",
    "\n",
    "SHUFFLING_SEED = 1919"
   ]
  },
  {
   "cell_type": "code",
   "execution_count": 485,
   "metadata": {},
   "outputs": [
    {
     "name": "stdout",
     "output_type": "stream",
     "text": [
      "#Classes: 2\n",
      "20 6\n"
     ]
    }
   ],
   "source": [
    "rng = np.random.default_rng()\n",
    "\n",
    "data_base_dir = Path('/home/passch/data/')\n",
    "data_path = data_base_dir / 'HP1_ECoG_conditional/sub-002'\n",
    "splits_path = data_base_dir / 'datasplits/HP1_ECoG_conditional/sub-002'\n",
    "\n",
    "if USE_PRECOMPUTED_SPLIT:\n",
    "    with open(splits_path / 'train.csv', 'r') as f:\n",
    "        train_files = [fn.replace('.wav','.npy') for fn in f.read().split(',')]\n",
    "    \n",
    "    with open(splits_path / 'val.csv', 'r') as f:\n",
    "        val_files = [fn.replace('.wav','.npy') for fn in f.read().split(',')]\n",
    "    \n",
    "    # n_classes = len(np.unique([get_word_from_filepath(file) for file in train_files]))\n",
    "    # print(n_classes)\n",
    "\n",
    "    # Set no. of classes to 55 even if dataset may lower actual number of classes. \n",
    "    # This ensures compatibility with the class-conditional pretraining model.\n",
    "    n_classes = 55\n",
    "    print(len(train_files), len(val_files))\n",
    "\n",
    "    rng.shuffle(train_files)\n",
    "    rng.shuffle(val_files)\n",
    "\n",
    "else:\n",
    "    COUNT_THRESHOLD = 13\n",
    "    UNDERSAMPLE = True\n",
    "    VAL_INSTANCES_PER_CLASS = 3\n",
    "\n",
    "    all_files = sorted([fn for fn in os.listdir(data_path) if fn.endswith('.npy')])\n",
    "    rng.shuffle(all_files)\n",
    "\n",
    "    # Compute counts for all words\n",
    "    words, counts = np.unique(\n",
    "        [get_word_from_filepath(fn) for fn in all_files], \n",
    "        return_counts=True\n",
    "    )\n",
    "\n",
    "    # Keep only words above certain threshold\n",
    "    words_to_keep = []\n",
    "    for word, count in zip(*[words, counts]):\n",
    "        if count >= COUNT_THRESHOLD:\n",
    "            words_to_keep.append(word)\n",
    "\n",
    "    train_files, val_files, full_files = [], [], []\n",
    "\n",
    "    for word in words_to_keep:\n",
    "        # if word == 'wel' or word == 'dag':\n",
    "        #     continue\n",
    "        word_files = [fn for fn in all_files if get_word_from_filepath(fn) == word]\n",
    "        if UNDERSAMPLE:\n",
    "            word_files = word_files[:COUNT_THRESHOLD]\n",
    "        full_files.extend(word_files)\n",
    "        val_files.extend(word_files[:VAL_INSTANCES_PER_CLASS])\n",
    "        train_files.extend(word_files[VAL_INSTANCES_PER_CLASS:])\n",
    "        # val_files.extend(\n",
    "        #     rng.choice(word_files, size=2, replace=False)\n",
    "        # )\n",
    "\n",
    "    # rng.shuffle(full_files)\n",
    "\n",
    "    # Make train and validation split\n",
    "    # train_files, val_files = train_test_split(\n",
    "    #     selected_files, \n",
    "    #     test_size=0.15, \n",
    "    #     random_state=SHUFFLING_SEED\n",
    "    # )\n",
    "    \n",
    "    n_classes = len(words_to_keep)\n",
    "    unique_words = sorted(words_to_keep)\n",
    "\n",
    "    print('#Classes:', n_classes)\n",
    "    print(len(train_files), len(val_files))"
   ]
  },
  {
   "cell_type": "code",
   "execution_count": 437,
   "metadata": {},
   "outputs": [
    {
     "name": "stdout",
     "output_type": "stream",
     "text": [
      "dag : 10\n",
      "wel : 13\n",
      "2\n"
     ]
    },
    {
     "data": {
      "text/plain": [
       "(20, 8)"
      ]
     },
     "execution_count": 437,
     "metadata": {},
     "output_type": "execute_result"
    }
   ],
   "source": [
    "# Run this cell to only use the 6 most occuring words in the trainset, and undersample them to 7 instances each\n",
    "# This leaves the valset untouched\n",
    "\n",
    "COUNT_THRESHOLD = 10\n",
    "UNDERSAMPLE = True\n",
    "\n",
    "\n",
    "words, counts = np.unique(\n",
    "    [get_word_from_filepath(fn) for fn in train_files], \n",
    "    return_counts=True\n",
    ")\n",
    "\n",
    "# Keep only words above certain threshold\n",
    "words_to_keep = []\n",
    "for word, count in zip(*[words, counts]):\n",
    "    if count >= COUNT_THRESHOLD:\n",
    "        print(word, ':', count)\n",
    "        words_to_keep.append(word)\n",
    "words_to_keep\n",
    "\n",
    "new_train_files = []\n",
    "new_val_files = []\n",
    "for word in words_to_keep:\n",
    "    word_files = [fn for fn in train_files if get_word_from_filepath(fn) == word]\n",
    "    if UNDERSAMPLE:\n",
    "        word_files = word_files[:COUNT_THRESHOLD]\n",
    "    new_train_files.extend(word_files)\n",
    "\n",
    "    word_files = [fn for fn in val_files if get_word_from_filepath(fn) == word]\n",
    "    new_val_files.extend(word_files)\n",
    "\n",
    "\n",
    "train_files = new_train_files\n",
    "val_files = new_val_files\n",
    "n_classes = len(words_to_keep)\n",
    "print(n_classes)\n",
    "len(train_files), len(val_files)"
   ]
  },
  {
   "cell_type": "code",
   "execution_count": 452,
   "metadata": {},
   "outputs": [
    {
     "data": {
      "text/plain": [
       "['dag8.npy', 'dag11.npy', 'dag6.npy', 'wel3.npy', 'wel1.npy', 'wel18.npy']"
      ]
     },
     "execution_count": 452,
     "metadata": {},
     "output_type": "execute_result"
    }
   ],
   "source": [
    "val_files"
   ]
  },
  {
   "cell_type": "code",
   "execution_count": 415,
   "metadata": {},
   "outputs": [],
   "source": [
    "if n_classes == 55:\n",
    "    class_label_loader = ClassConditionalLoader(data_base_dir / 'HP_VariaNTS_intersection.txt')\n",
    "else:\n",
    "    # If using only subset of classes, use the unique words computed above\n",
    "    class_label_loader = ClassConditionalLoader(words_file=None, words_list=unique_words)\n",
    "\n",
    "class Dataset(torch.utils.data.Dataset):\n",
    "    def __init__(self, files) -> None:\n",
    "        super().__init__()\n",
    "        self.files=files\n",
    "        # randomizer = np.random.choice(len(files), size=len(files), replace=False)\n",
    "        # self.randomizer = {i: randomizer[i] for i in range(len(files))}\n",
    "    def __getitem__(self, n:int):\n",
    "        ecog = ECOGLoader.process_ecog(data_path / self.files[n])\n",
    "        # try:\n",
    "        #     n = self.randomizer[n]\n",
    "        # except KeyError:\n",
    "        #     raise IndexError\n",
    "        word_vector = class_label_loader(self.files[n]).squeeze()\n",
    "        # word_vector = class_label_loader.word_tokens[get_word_from_filepath(self.files[n])]\n",
    "        # word = get_word_from_filepath(self.files[n])\n",
    "        # return ecog, word # for SVM\n",
    "        return ecog, word_vector # for MLP\n",
    "    def __len__(self):\n",
    "        return len(self.files)\n",
    "    def labels(self):\n",
    "        return [get_word_from_filepath(fp) for fp in self.files]\n",
    "\n",
    "trainset = Dataset(train_files)\n",
    "valset = Dataset(val_files)\n",
    "\n",
    "# Oversample train set\n",
    "# labels = trainset.labels()\n",
    "# labels_unique, counts = np.unique(labels, return_counts=True)\n",
    "# class_weights = {label: sum(counts)/c for label, c in zip(labels_unique, counts)}\n",
    "# sample_weights = [class_weights[label] for label in labels]\n",
    "# sampler = WeightedRandomSampler(sample_weights, len(sample_weights))\n",
    "sampler = None\n",
    "\n",
    "trainloader = torch.utils.data.DataLoader(\n",
    "    trainset, batch_size=8, num_workers=4, pin_memory=False, shuffle=False, drop_last=False, sampler=sampler)\n",
    "\n",
    "valloader = torch.utils.data.DataLoader(\n",
    "    valset, batch_size=8, num_workers=4, pin_memory=False, shuffle=False, drop_last=False)\n"
   ]
  },
  {
   "attachments": {},
   "cell_type": "markdown",
   "metadata": {},
   "source": [
    "### Fit SVC with and without LOO"
   ]
  },
  {
   "cell_type": "code",
   "execution_count": 486,
   "metadata": {},
   "outputs": [],
   "source": [
    "from sklearn.svm import SVC\n",
    "from sklearn.pipeline import make_pipeline\n",
    "from sklearn.preprocessing import StandardScaler"
   ]
  },
  {
   "cell_type": "code",
   "execution_count": 487,
   "metadata": {},
   "outputs": [
    {
     "name": "stdout",
     "output_type": "stream",
     "text": [
      "1.0 0.5\n"
     ]
    }
   ],
   "source": [
    "X_train = np.stack([ECOGLoader.process_ecog(data_path/fn).flatten() for fn in train_files])\n",
    "y_train = np.stack([get_word_from_filepath(fn) for fn in train_files])\n",
    "X_test = np.stack([ECOGLoader.process_ecog(data_path/fn).flatten() for fn in val_files])\n",
    "y_test = np.stack([get_word_from_filepath(fn) for fn in val_files])\n",
    "\n",
    "clf = SVC(C=2)\n",
    "clf.fit(X_train, y_train)\n",
    "train_acc = clf.score(X_train, y_train)\n",
    "val_acc = clf.score(X_test, y_test)\n",
    "\n",
    "print(train_acc, val_acc)"
   ]
  },
  {
   "cell_type": "code",
   "execution_count": 488,
   "metadata": {},
   "outputs": [
    {
     "data": {
      "image/png": "[encoded data removed]",
      "text/plain": [
       "<Figure size 1200x500 with 4 Axes>"
      ]
     },
     "metadata": {},
     "output_type": "display_data"
    }
   ],
   "source": [
    "from sklearn.metrics import ConfusionMatrixDisplay\n",
    "\n",
    "plt.figure(figsize=(12,5))\n",
    "ax1 = plt.subplot(121)\n",
    "ax1.set_title('Train')\n",
    "ConfusionMatrixDisplay.from_estimator(clf, X_train, y_train, ax=ax1, xticks_rotation=45)\n",
    "ax2 = plt.subplot(122)\n",
    "ax2.set_title('Test')\n",
    "ConfusionMatrixDisplay.from_estimator(clf, X_test, y_test, ax=ax2, xticks_rotation=45)\n",
    "plt.show()"
   ]
  },
  {
   "cell_type": "code",
   "execution_count": 489,
   "metadata": {},
   "outputs": [
    {
     "name": "stdout",
     "output_type": "stream",
     "text": [
      "Cross-validating with 26 splits:\n",
      "  Train Acc. : 1.0\n",
      "  Test Acc.  : 0.6154\n"
     ]
    }
   ],
   "source": [
    "from sklearn.model_selection import KFold\n",
    "\n",
    "X = np.stack([ECOGLoader.process_ecog(data_path/fn).flatten() for fn in full_files])\n",
    "y = np.stack([get_word_from_filepath(fn) for fn in full_files])\n",
    "\n",
    "crossval = KFold(n_splits=len(X))\n",
    "print(f'Cross-validating with {crossval.get_n_splits()} splits:')\n",
    "\n",
    "train_accs, test_accs = [], []\n",
    "\n",
    "\n",
    "for i, (train_index, test_index) in enumerate(crossval.split(X)):\n",
    "\n",
    "    # print(f\"Fold {i}:\")\n",
    "    # print(f\"  Train: index={train_index}\")\n",
    "    # print(f\"  Test:  index={test_index}\")\n",
    "\n",
    "    X_train, X_test = X[train_index], X[test_index]\n",
    "    y_train, y_test = y[train_index], y[test_index]\n",
    "\n",
    "    clf = SVC(C=2)\n",
    "    clf.fit(X_train, y_train)\n",
    "\n",
    "    train_accs.append(clf.score(X_train, y_train))\n",
    "    test_accs.append(clf.score(X_test, y_test))\n",
    "\n",
    "train_acc = round(np.mean(train_accs), 4)\n",
    "test_acc = round(np.mean(test_accs), 4)\n",
    "print('  Train Acc. :', train_acc)\n",
    "print('  Test Acc.  :', test_acc)"
   ]
  },
  {
   "cell_type": "code",
   "execution_count": 258,
   "metadata": {},
   "outputs": [],
   "source": [
    "from sklearn.manifold import TSNE\n",
    "X_embedded = TSNE(n_components=2, learning_rate='auto',\n",
    "                  init='random', perplexity=3).fit_transform(X)"
   ]
  },
  {
   "cell_type": "code",
   "execution_count": 261,
   "metadata": {},
   "outputs": [
    {
     "data": {
      "text/plain": [
       "<AxesSubplot: >"
      ]
     },
     "execution_count": 261,
     "metadata": {},
     "output_type": "execute_result"
    },
    {
     "data": {
      "image/png": "[encoded data removed]",
      "text/plain": [
       "<Figure size 640x480 with 1 Axes>"
      ]
     },
     "metadata": {},
     "output_type": "display_data"
    }
   ],
   "source": [
    "# plt.scatter(X_embedded[:,0], X_embedded[:,1], color=y)\n",
    "sns.scatterplot(x=X_embedded[:,0], y=X_embedded[:,1], hue=y)#hue=[str(e) for e in y] )"
   ]
  },
  {
   "attachments": {},
   "cell_type": "markdown",
   "metadata": {},
   "source": [
    "### Test Oversampling works"
   ]
  },
  {
   "cell_type": "code",
   "execution_count": 6,
   "metadata": {},
   "outputs": [
    {
     "name": "stderr",
     "output_type": "stream",
     "text": [
      "100%|██████████| 100/100 [00:13<00:00,  7.60it/s]\n"
     ]
    }
   ],
   "source": [
    "labels = []\n",
    "for _ in tqdm(range(100)):\n",
    "    for data in trainloader:\n",
    "        _, y = data\n",
    "        # print(y)\n",
    "        y = list(torch.argmax(y, dim=1, keepdim=True).squeeze().numpy())\n",
    "        labels.extend(y)\n"
   ]
  },
  {
   "cell_type": "code",
   "execution_count": 7,
   "metadata": {},
   "outputs": [
    {
     "data": {
      "image/png": "[encoded data removed]",
      "text/plain": [
       "<Figure size 1400x500 with 2 Axes>"
      ]
     },
     "metadata": {},
     "output_type": "display_data"
    }
   ],
   "source": [
    "plt.figure(figsize=(14,5))\n",
    "\n",
    "plt.subplot(121)\n",
    "labels_unique, actual_counts = np.unique(trainset.labels(), return_counts=True)\n",
    "plt.bar(labels_unique, actual_counts)\n",
    "plt.xticks(labels_unique, np.unique(trainset.labels()), rotation=90, fontsize=8)\n",
    "\n",
    "plt.subplot(122)\n",
    "labels_unique, counts = np.unique(labels, return_counts=True)\n",
    "plt.bar(labels_unique, counts)\n",
    "plt.xticks(labels_unique, np.unique(trainset.labels()), rotation=90, fontsize=8)\n",
    "\n",
    "# plt.tight_layout()\n",
    "plt.show()"
   ]
  },
  {
   "attachments": {},
   "cell_type": "markdown",
   "metadata": {},
   "source": [
    "## Training"
   ]
  },
  {
   "cell_type": "code",
   "execution_count": 416,
   "metadata": {},
   "outputs": [],
   "source": [
    "LEARNING_RATE = 1e-5\n",
    "N_EPOCHS = 300\n",
    "\n",
    "SAVE_ITER = 20\n",
    "\n",
    "WEIGHT_DECAY = 0 # '0' to turn off\n",
    "LR_DECAY_STEP_SIZE = None # 'None' to turn off scheduler\n",
    "LR_DECAY_FACTOR = 0.01"
   ]
  },
  {
   "cell_type": "code",
   "execution_count": 417,
   "metadata": {},
   "outputs": [],
   "source": [
    "# inp = torch.randn(8, 48, 55)\n",
    "in_nodes = 48 * 55\n",
    "model = torch.nn.Sequential(\n",
    "    nn.Flatten(),\n",
    "    nn.Linear(in_nodes, in_nodes//2), \n",
    "    nn.ReLU(),\n",
    "    # nn.BatchNorm1d(in_nodes//2),\n",
    "    nn.LayerNorm(in_nodes//2),\n",
    "    nn.Dropout(0.4),\n",
    "\n",
    "    nn.Linear(in_nodes//2, in_nodes//4),\n",
    "    nn.ReLU(),\n",
    "    # nn.BatchNorm1d(in_nodes//4),\n",
    "    nn.LayerNorm(in_nodes//4),\n",
    "    nn.Dropout(0.3),\n",
    "\n",
    "    nn.Linear(in_nodes//4, n_classes),\n",
    "    nn.Softmax(1),\n",
    ").cuda()\n",
    "# model = nn.Sequential(\n",
    "#     nn.Conv1d(48, 100, kernel_size=3, stride=1, padding=1),\n",
    "#     nn.ReLU(),\n",
    "#     nn.LayerNorm(55),\n",
    "#     nn.MaxPool1d(kernel_size=2, stride=3),\n",
    "\n",
    "#     nn.Conv1d(100, 200, kernel_size=3, stride=1, padding=1),\n",
    "#     nn.ReLU(),\n",
    "#     nn.LayerNorm(18),\n",
    "#     nn.MaxPool1d(kernel_size=2, stride=2),\n",
    "#     # nn.MaxPool2d(kernel_size=(1,2), stride=(1,2)),\n",
    "\n",
    "#     nn.Flatten(),\n",
    "\n",
    "#     nn.Linear(1800, 600),\n",
    "#     nn.ReLU(),\n",
    "#     nn.LayerNorm(600),\n",
    "#     nn.Dropout(0.4),\n",
    "\n",
    "#     # nn.Linear(1248, 624),\n",
    "#     # nn.ReLU(),\n",
    "    \n",
    "#     nn.Linear(600, n_classes),\n",
    "#     nn.Softmax(1),\n",
    "# ).cuda()\n",
    "# x = torch.randn(8,48,55).cuda()\n",
    "# for l in model:\n",
    "#     print(f'{l._get_name()}:')\n",
    "#     x = l(x)\n",
    "#     print(' ',x.shape)\n",
    "\n",
    "# print('Final output:')\n",
    "# print(' ',x.shape)"
   ]
  },
  {
   "cell_type": "code",
   "execution_count": 418,
   "metadata": {},
   "outputs": [
    {
     "data": {
      "text/plain": [
       "Sequential(\n",
       "  (0): Flatten(start_dim=1, end_dim=-1)\n",
       "  (1): Linear(in_features=2640, out_features=1320, bias=True)\n",
       "  (2): ReLU()\n",
       "  (3): LayerNorm((1320,), eps=1e-05, elementwise_affine=True)\n",
       "  (4): Dropout(p=0.4, inplace=False)\n",
       "  (5): Linear(in_features=1320, out_features=660, bias=True)\n",
       "  (6): ReLU()\n",
       "  (7): LayerNorm((660,), eps=1e-05, elementwise_affine=True)\n",
       "  (8): Dropout(p=0.3, inplace=False)\n",
       "  (9): Linear(in_features=660, out_features=6, bias=True)\n",
       "  (10): Softmax(dim=1)\n",
       ")"
      ]
     },
     "execution_count": 418,
     "metadata": {},
     "output_type": "execute_result"
    }
   ],
   "source": [
    "# model = BrainClassifierV1(in_nodes=127*2*SEGMENT_LENGTH, n_classes=n_classes).cuda()\n",
    "# model = BrainClassifierV3(32, n_classes).cuda()\n",
    "loss_fn = torch.nn.CrossEntropyLoss()\n",
    "optimizer = torch.optim.Adam(model.parameters(), lr=LEARNING_RATE, weight_decay=WEIGHT_DECAY)\n",
    "if LR_DECAY_STEP_SIZE is not None:\n",
    "    scheduler = torch.optim.lr_scheduler.StepLR(optimizer, step_size=LR_DECAY_STEP_SIZE, gamma=LR_DECAY_FACTOR)\n",
    "\n",
    "start_epoch = 1\n",
    "model"
   ]
  },
  {
   "cell_type": "code",
   "execution_count": 403,
   "metadata": {},
   "outputs": [
    {
     "name": "stdout",
     "output_type": "stream",
     "text": [
      "exp/Sub2_Full-Std_MLP_6classes_LR1e-05_dropout_layernorm_no-shuffle_2/\n"
     ]
    }
   ],
   "source": [
    "# NOTE Change output name here for every experiment\n",
    "ckpt_path = f'exp/Sub2_Full-Std_MLP_{n_classes}classes_LR{LEARNING_RATE}_dropout_layernorm_no-shuffle/'\n",
    "\n",
    "os.makedirs(ckpt_path, exist_ok=False)\n",
    "print(ckpt_path)"
   ]
  },
  {
   "cell_type": "code",
   "execution_count": 419,
   "metadata": {},
   "outputs": [],
   "source": [
    "logs = {\n",
    "    'train_loss_epoch': [], 'train_loss_batch': [], 'train_acc_epoch': [], 'train_acc_batch': [],\n",
    "    'val_loss_epoch': [], 'val_loss_batch': [], 'val_acc_epoch': [], 'val_acc_batch': [],\n",
    "}"
   ]
  },
  {
   "cell_type": "code",
   "execution_count": 420,
   "metadata": {},
   "outputs": [
    {
     "name": "stderr",
     "output_type": "stream",
     "text": [
      "Training: 100%|████████████| 300/300 [03:15<00:00,  1.54it/s, Train Loss=1.05, Val Loss=1.76, Train Acc=1.000, Val Acc=0.350]\n"
     ]
    }
   ],
   "source": [
    "for epoch in (pbar := tqdm(range(start_epoch, start_epoch+N_EPOCHS), desc='Training', ncols=125)):\n",
    "    # TRAINING\n",
    "    model.train()\n",
    "    train_loss_epoch = 0.\n",
    "    train_acc_epoch = 0.\n",
    "    for i, data in enumerate(trainloader):\n",
    "        x, y = data\n",
    "        x = x.cuda()\n",
    "        y = y.cuda()\n",
    "\n",
    "        optimizer.zero_grad()\n",
    "        y_pred = model(x)\n",
    "        \n",
    "        loss = loss_fn(y_pred, y)\n",
    "        loss.backward()\n",
    "        optimizer.step()\n",
    "        \n",
    "        train_loss_batch = loss.item()\n",
    "        logs['train_loss_batch'].append(train_loss_batch)\n",
    "        train_loss_epoch += train_loss_batch\n",
    "\n",
    "        train_acc_batch = accuracy_score(\n",
    "            torch.argmax(y, dim=1).cpu(), torch.argmax(y_pred, dim=1).cpu())\n",
    "        logs['train_acc_batch'].append(train_acc_batch)\n",
    "        train_acc_epoch += train_acc_batch\n",
    "   \n",
    "    train_loss_epoch /= len(trainloader)\n",
    "    logs['train_loss_epoch'].append(train_loss_epoch)\n",
    "\n",
    "    train_acc_epoch /= len(trainloader)\n",
    "    logs['train_acc_epoch'].append(train_acc_epoch)\n",
    "\n",
    "    # VALIDATING\n",
    "    model.eval()\n",
    "    val_loss_epoch = 0.\n",
    "    val_acc_epoch = 0.\n",
    "    for i, data in enumerate(valloader):\n",
    "        x, y = data\n",
    "        x = x.cuda()\n",
    "        y = y.cuda()\n",
    "        \n",
    "        y_pred = model(x)\n",
    "        \n",
    "        loss = loss_fn(y_pred, y)\n",
    "        \n",
    "        val_loss_batch = loss.item()\n",
    "        logs['val_loss_batch'].append(val_loss_batch)\n",
    "        val_loss_epoch += val_loss_batch\n",
    "\n",
    "        val_acc_batch = accuracy_score(\n",
    "            torch.argmax(y, dim=1).cpu(), torch.argmax(y_pred, dim=1).cpu())\n",
    "        logs['val_acc_batch'].append(val_acc_batch)\n",
    "        val_acc_epoch += val_acc_batch\n",
    "\n",
    "    val_loss_epoch /= len(valloader)\n",
    "    logs['val_loss_epoch'].append(val_loss_epoch)\n",
    "\n",
    "    val_acc_epoch /= len(valloader)\n",
    "    logs['val_acc_epoch'].append(val_acc_epoch)\n",
    "\n",
    "    # Update loss values in progress bar\n",
    "    pbar.set_postfix({\n",
    "        'Train Loss': f'{logs[\"train_loss_epoch\"][-1]:.2f}', \n",
    "        'Val Loss': f'{logs[\"val_loss_epoch\"][-1]:.2f}',\n",
    "        'Train Acc': f'{logs[\"train_acc_epoch\"][-1]:.3f}',\n",
    "        'Val Acc': f'{logs[\"val_acc_epoch\"][-1]:.3f}',\n",
    "    })\n",
    "\n",
    "    # Decay learning rate if specified\n",
    "    if LR_DECAY_STEP_SIZE is not None:\n",
    "        scheduler.step()\n",
    "\n",
    "    # Save model checkpoint\n",
    "    if epoch % SAVE_ITER == 0:\n",
    "        torch.save(\n",
    "            {'model_state_dict': model.state_dict()},\n",
    "            os.path.join(ckpt_path, f'{epoch}.pkl')\n",
    "        )\n",
    "\n",
    "start_epoch = epoch + 1"
   ]
  },
  {
   "attachments": {},
   "cell_type": "markdown",
   "metadata": {},
   "source": [
    "Save logs to disk"
   ]
  },
  {
   "cell_type": "code",
   "execution_count": 421,
   "metadata": {},
   "outputs": [],
   "source": [
    "with open(os.path.join(ckpt_path, 'logs.json'), \"w\") as f:\n",
    "    json.dump(logs, f)"
   ]
  },
  {
   "attachments": {},
   "cell_type": "markdown",
   "metadata": {},
   "source": [
    "## Plotting Logged Metrics"
   ]
  },
  {
   "cell_type": "code",
   "execution_count": 15,
   "metadata": {},
   "outputs": [],
   "source": [
    "with open(os.path.join(ckpt_path, 'logs.json'), \"r\") as f:\n",
    "    logs = json.load(f)"
   ]
  },
  {
   "cell_type": "code",
   "execution_count": 422,
   "metadata": {},
   "outputs": [
    {
     "data": {
      "image/png": "[encoded data removed]",
      "text/plain": [
       "<Figure size 1200x400 with 2 Axes>"
      ]
     },
     "metadata": {},
     "output_type": "display_data"
    }
   ],
   "source": [
    "start_idx = 0\n",
    "plt.figure(figsize=(12,4))\n",
    "\n",
    "plt.subplot(121)\n",
    "plt.title('Cross Entropy Loss')\n",
    "plt.plot(logs['val_loss_epoch'][start_idx:], color='orange', label='Validation')\n",
    "plt.plot(logs['train_loss_epoch'][start_idx:], color='b', label='Training')\n",
    "# plt.vlines(2000, 3.7, 4.0, colors='r', linestyles='--', alpha=0.5)\n",
    "# plt.vlines(1100, 3.4, 4.1, colors='r', linestyles='--', alpha=0.5)\n",
    "plt.xlabel('Epoch')\n",
    "plt.ylabel('Cross Entropy')\n",
    "plt.legend(loc=3)\n",
    "plt.grid()\n",
    "\n",
    "plt.subplot(122)\n",
    "plt.title('Accuracy')\n",
    "plt.plot(logs['val_acc_epoch'][start_idx:], color='orange', label='Validation')\n",
    "plt.plot(logs['train_acc_epoch'][start_idx:], color='b', label='Training')\n",
    "# plt.vlines(2000, 0.0, 0.325, colors='r', linestyles='--', alpha=0.5)\n",
    "# plt.vlines(1100, 0.0, 0.75, colors='r', linestyles='--', alpha=0.5)\n",
    "plt.xlabel('Epoch')\n",
    "plt.ylabel('Accuracy')\n",
    "plt.legend(loc=4)\n",
    "plt.grid()\n",
    "\n",
    "plt.savefig(os.path.join(ckpt_path, 'loss_progression'))\n",
    "plt.show()"
   ]
  },
  {
   "attachments": {},
   "cell_type": "markdown",
   "metadata": {},
   "source": [
    "## Confusion Matrices"
   ]
  },
  {
   "cell_type": "code",
   "execution_count": 61,
   "metadata": {},
   "outputs": [
    {
     "data": {
      "text/plain": [
       "Sequential(\n",
       "  (0): Flatten(start_dim=1, end_dim=-1)\n",
       "  (1): Linear(in_features=2640, out_features=1320, bias=True)\n",
       "  (2): ReLU()\n",
       "  (3): BatchNorm1d(1320, eps=1e-05, momentum=0.1, affine=True, track_running_stats=True)\n",
       "  (4): Dropout(p=0.4, inplace=False)\n",
       "  (5): Linear(in_features=1320, out_features=660, bias=True)\n",
       "  (6): ReLU()\n",
       "  (7): BatchNorm1d(660, eps=1e-05, momentum=0.1, affine=True, track_running_stats=True)\n",
       "  (8): Dropout(p=0.3, inplace=False)\n",
       "  (9): Linear(in_features=660, out_features=55, bias=True)\n",
       "  (10): Softmax(dim=1)\n",
       ")"
      ]
     },
     "execution_count": 61,
     "metadata": {},
     "output_type": "execute_result"
    }
   ],
   "source": [
    "# Load model\n",
    "epoch = 200\n",
    "# load_ckpt_path = f'exp/brain_classifier_v1_{n_classes}classes_datasetv2_no-standardization'\n",
    "\n",
    "ckpt = torch.load(os.path.join(ckpt_path, f'{epoch}.pkl'))\n",
    "# model = BrainClassifierV1(in_nodes=2*32*SEGMENT_LENGTH, n_classes=n_classes).cuda()\n",
    "# model = BrainClassifierV3(n_classes).cuda()\n",
    "model.load_state_dict(ckpt['model_state_dict'])\n",
    "model"
   ]
  },
  {
   "cell_type": "code",
   "execution_count": 423,
   "metadata": {},
   "outputs": [
    {
     "name": "stdout",
     "output_type": "stream",
     "text": [
      "Unique classes predicted: [0.0, 1.0, 2.0, 3.0, 4.0, 5.0]\n"
     ]
    }
   ],
   "source": [
    "all_preds_train = np.empty(0)\n",
    "all_true_train = np.empty(0)\n",
    "model.eval()\n",
    "for i, data in enumerate(trainloader):\n",
    "    x, y = data\n",
    "    x = x.cuda()\n",
    "    \n",
    "    y_pred = model(x)\n",
    "    all_preds_train = np.concatenate([all_preds_train, torch.argmax(y_pred, dim=1).cpu()])\n",
    "    all_true_train = np.concatenate([all_true_train, torch.argmax(y, dim=1)])\n",
    "\n",
    "cm_train = confusion_matrix(all_true_train, all_preds_train, labels=range(n_classes))\n",
    "\n",
    "print('Unique classes predicted:', list(np.unique(all_preds_train)))"
   ]
  },
  {
   "cell_type": "code",
   "execution_count": 426,
   "metadata": {},
   "outputs": [
    {
     "name": "stdout",
     "output_type": "stream",
     "text": [
      "[1. 0. 3. 1. 1. 0. 0. 4. 5. 0. 1. 4. 0.]\n",
      "[0. 0. 0. 1. 1. 2. 3. 4. 5. 5. 5. 5. 5.]\n",
      "Unique classes predicted: [0.0, 1.0, 3.0, 4.0, 5.0]\n"
     ]
    }
   ],
   "source": [
    "all_preds_val = np.empty(0)\n",
    "all_true_val = np.empty(0)\n",
    "model.eval()\n",
    "for i, data in enumerate(valloader):\n",
    "    x, y = data\n",
    "    x = x.cuda()\n",
    "\n",
    "    y_pred = model(x)\n",
    "    all_preds_val = np.concatenate([all_preds_val, torch.argmax(y_pred, dim=1).cpu()])\n",
    "    all_true_val = np.concatenate([all_true_val, torch.argmax(y, dim=1)])\n",
    "\n",
    "# cm_val = confusion_matrix(all_true_val, all_preds_val, labels=range(n_classes))\n",
    "cm_val = confusion_matrix(all_true_val, all_preds_val, labels=np.unique(all_true_val))\n",
    "\n",
    "print(all_preds_val)\n",
    "print(all_true_val)\n",
    "print('Unique classes predicted:', list(np.unique(all_preds_val)))"
   ]
  },
  {
   "cell_type": "code",
   "execution_count": 427,
   "metadata": {},
   "outputs": [
    {
     "data": {
      "image/png": "[encoded data removed]",
      "text/plain": [
       "<Figure size 600x400 with 2 Axes>"
      ]
     },
     "metadata": {},
     "output_type": "display_data"
    }
   ],
   "source": [
    "plt.figure(figsize=(6,4))\n",
    "plt.subplot(121)\n",
    "plt.imshow(cm_train)\n",
    "plt.title('Training')\n",
    "plt.ylabel('True Class')\n",
    "plt.yticks(range(0,n_classes,5))\n",
    "plt.xlabel('Predicted Class')\n",
    "plt.xticks(range(0,n_classes,5))\n",
    "\n",
    "plt.subplot(122)\n",
    "plt.imshow(cm_val)\n",
    "plt.title('Validation')\n",
    "plt.ylabel('True Class')\n",
    "plt.yticks(range(0,len(np.unique(all_true_val)),1))\n",
    "plt.xlabel('Predicted Class')\n",
    "plt.xticks(range(0,len(np.unique(all_true_val)),1))\n",
    "# plt.grid()\n",
    "\n",
    "plt.tight_layout()\n",
    "plt.savefig(os.path.join(ckpt_path, f'conf_mat_e{epoch}'))\n",
    "plt.show()"
   ]
  },
  {
   "cell_type": "code",
   "execution_count": 19,
   "metadata": {},
   "outputs": [],
   "source": [
    "def get_word_from_token(token):\n",
    "    return list(class_label_loader.word_tokens.keys())\\\n",
    "        [list(class_label_loader.word_tokens.values()).index(token)]"
   ]
  },
  {
   "cell_type": "code",
   "execution_count": 20,
   "metadata": {},
   "outputs": [
    {
     "data": {
      "text/plain": [
       "['hoofd', 'wel']"
      ]
     },
     "execution_count": 20,
     "metadata": {},
     "output_type": "execute_result"
    }
   ],
   "source": [
    "[get_word_from_token(t) for t in list(np.unique(all_preds_val))]"
   ]
  },
  {
   "cell_type": "code",
   "execution_count": null,
   "metadata": {},
   "outputs": [],
   "source": []
  }
 ],
 "metadata": {
  "kernelspec": {
   "display_name": "diffwave",
   "language": "python",
   "name": "python3"
  },
  "language_info": {
   "codemirror_mode": {
    "name": "ipython",
    "version": 3
   },
   "file_extension": ".py",
   "mimetype": "text/x-python",
   "name": "python",
   "nbconvert_exporter": "python",
   "pygments_lexer": "ipython3",
   "version": "3.10.4"
  },
  "orig_nbformat": 4,
  "vscode": {
   "interpreter": {
    "hash": "9a17d9c9cbbc962de36b255476254331786dd384e23a24706cf6aa287aa1626b"
   }
  }
 },
 "nbformat": 4,
 "nbformat_minor": 2
}
