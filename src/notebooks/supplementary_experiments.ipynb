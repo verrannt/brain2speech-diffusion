{
 "cells": [
  {
   "attachments": {},
   "cell_type": "markdown",
   "metadata": {},
   "source": [
    "# Supplementary Brain Classification Experiments"
   ]
  },
  {
   "cell_type": "code",
   "execution_count": 2,
   "metadata": {},
   "outputs": [],
   "source": [
    "from collections import defaultdict\n",
    "import math\n",
    "from pathlib import Path\n",
    "from tqdm import tqdm\n",
    "\n",
    "import matplotlib.pyplot as plt\n",
    "import numpy as np\n",
    "from scipy.io.wavfile import read as wavread\n",
    "from sklearn.metrics import ConfusionMatrixDisplay\n",
    "from sklearn.model_selection import LeaveOneOut, KFold\n",
    "from sklearn.svm import SVC\n",
    "from textgrids import TextGrid\n",
    "\n",
    "import IPython.display as ipd"
   ]
  },
  {
   "attachments": {},
   "cell_type": "markdown",
   "metadata": {},
   "source": [
    "## Specify Target Words"
   ]
  },
  {
   "cell_type": "code",
   "execution_count": 7,
   "metadata": {},
   "outputs": [
    {
     "name": "stdout",
     "output_type": "stream",
     "text": [
      "['bed', 'boel', 'brief', 'bril', 'dag', 'dier', 'doel', 'dood', 'feest', 'goed', 'greep', 'half', 'hand', 'heel', 'heer', 'hoofd', 'hoop', 'kalm', 'kan', 'kant', 'keel', 'keer', 'kind', 'klein', 'kneep', 'kwaad', 'laat', 'land', 'lang', 'licht', 'los', 'man', 'meer', 'mond', 'mot', 'neus', 'paar', 'raam', 'rest', 'snel', 'stad', 'steen', 'stijf', 'stuur', 'tijd', 'vol', 'vorm', 'vroeg', 'weg', 'wel', 'werk', 'wind', 'zet', 'zin', 'zoon']\n"
     ]
    }
   ],
   "source": [
    "# We can either use all 55 words that are in both the Harry Potter chapter as well as the VariaNTS data as target words...\n",
    "with open('data/HP_VariaNTS_intersection.txt', 'r') as f:\n",
    "    target_words = f.read().split(',')\n",
    "\n",
    "# ...Or we can specify specific target words by hand:\n",
    "# target_words = ['dag', 'wel']\n",
    "# target_words = ['perkamentus', 'anderling']\n",
    "\n",
    "print(target_words)"
   ]
  },
  {
   "attachments": {},
   "cell_type": "markdown",
   "metadata": {},
   "source": [
    "## Create Data"
   ]
  },
  {
   "cell_type": "code",
   "execution_count": 8,
   "metadata": {},
   "outputs": [],
   "source": [
    "# If only some electrodes should be selected, their indices can be specified here.\n",
    "# NOTE: These current ones are for subject 2.\n",
    "selected_electrodes = np.concatenate([np.arange(8)+16*i for i in range(0,6)])"
   ]
  },
  {
   "cell_type": "code",
   "execution_count": 14,
   "metadata": {},
   "outputs": [
    {
     "name": "stdout",
     "output_type": "stream",
     "text": [
      "Longest segment: 55\n"
     ]
    },
    {
     "name": "stderr",
     "output_type": "stream",
     "text": [
      "100%|██████████| 188/188 [00:00<00:00, 43430.78it/s]"
     ]
    },
    {
     "name": "stdout",
     "output_type": "stream",
     "text": [
      "Classes: 53\n",
      "{'bed': 2, 'boel': 1, 'brief': 5, 'bril': 2, 'dag': 13, 'dier': 1, 'doel': 1, 'dood': 3, 'feest': 1, 'goed': 9, 'greep': 2, 'half': 5, 'hand': 3, 'heel': 7, 'heer': 1, 'hoofd': 8, 'hoop': 4, 'kalm': 1, 'kan': 7, 'kant': 2, 'keel': 1, 'keer': 7, 'kind': 2, 'klein': 3, 'kneep': 1, 'kwaad': 1, 'laat': 2, 'land': 5, 'lang': 8, 'licht': 1, 'los': 6, 'man': 4, 'meer': 7, 'mond': 2, 'neus': 2, 'paar': 8, 'raam': 3, 'rest': 1, 'snel': 1, 'stad': 2, 'stijf': 1, 'stuur': 1, 'tijd': 4, 'vol': 1, 'vorm': 2, 'vroeg': 6, 'weg': 4, 'wel': 18, 'werk': 2, 'wind': 1, 'zet': 1, 'zin': 1, 'zoon': 1}\n"
     ]
    },
    {
     "name": "stderr",
     "output_type": "stream",
     "text": [
      "\n"
     ]
    }
   ],
   "source": [
    "# Sampling rate of the ECoG recordings\n",
    "ECOG_SAMPLERATE = 100\n",
    "\n",
    "# Whether to undersample classes with more occurences to the number of occurrences in the least occurring class\n",
    "UNDERSAMPLE = False\n",
    "\n",
    "# The subject to process\n",
    "SUB = 2\n",
    "\n",
    "# Replace this with wherever the data is stored\n",
    "DATA_DIR = Path('/home/passch/brain2speech-diffusion/data/hp_reading')\n",
    "\n",
    "data = []\n",
    "labels = []\n",
    "lengths = []\n",
    "\n",
    "word_counter = defaultdict(int)\n",
    "\n",
    "# Define subject specific path\n",
    "subj_dir = DATA_DIR / f'sub-00{SUB}'\n",
    "\n",
    "lfb_filename = 'lfb_hp_reading_ecog_car_1-30_avgfirst_100Hz_log_norm.npy'\n",
    "hfb_filename = 'hfb_hp_reading_ecog_car_70-170_avgfirst_100Hz_log_norm.npy'\n",
    "\n",
    "ecogs = {\n",
    "    1: { # run 1\n",
    "        'lfb' : np.load(subj_dir / f'sub-00{SUB}_ses-iemu_acq-ECOG_run-01_ieeg/{hfb_filename}'),\n",
    "        'hfb' : np.load(subj_dir / f'sub-00{SUB}_ses-iemu_acq-ECOG_run-01_ieeg/{hfb_filename}'),\n",
    "    },\n",
    "    2: { # run 2\n",
    "        'lfb' : np.load(subj_dir / f'sub-00{SUB}_ses-iemu_acq-ECOG_run-02_ieeg/{lfb_filename}'),\n",
    "        'hfb' : np.load(subj_dir / f'sub-00{SUB}_ses-iemu_acq-ECOG_run-02_ieeg/{hfb_filename}'),\n",
    "    }\n",
    "} \n",
    "\n",
    "\n",
    "intervals = []\n",
    "\n",
    "for run in [1,2]:\n",
    "    # The TextGrid which contains all detected word intervals\n",
    "    textgrid = TextGrid(subj_dir / f'sub-00{SUB}_ses-iemu_acq-ECOG_run-0{run}_audio.TextGrid')\n",
    "\n",
    "    # Pick the relevant intervals from the text grid, i.e. only those of words in the intersection\n",
    "    for interval in textgrid['words']:\n",
    "        if interval.text in target_words:\n",
    "            interval.run = run\n",
    "            intervals.append(interval)\n",
    "\n",
    "max_length = round(np.max([interval.xmax - interval.xmin for interval in intervals]) * ECOG_SAMPLERATE)\n",
    "print('Longest segment:', max_length)\n",
    "\n",
    "max_n = np.min(np.unique([e.text for e in intervals], return_counts=True)[1])\n",
    "\n",
    "np.random.shuffle(intervals)\n",
    "\n",
    "for interval in tqdm(intervals):\n",
    "    word_counter[interval.text] += 1\n",
    "    if UNDERSAMPLE and word_counter[interval.text] > max_n:\n",
    "        continue\n",
    "\n",
    "    # ecog_lfb = ecogs[interval.run]['lfb'][            \n",
    "    #     math.floor(interval.xmin * ECOG_SAMPLERATE) : \n",
    "    #     math.floor(interval.xmin * ECOG_SAMPLERATE) + max_length\n",
    "    # ] # -> Shape (TIMESTEPS, ELECTRODES)\n",
    "\n",
    "    ecog_hfb = ecogs[interval.run]['hfb'][            \n",
    "        math.floor(interval.xmin * ECOG_SAMPLERATE) : \n",
    "        math.floor(interval.xmin * ECOG_SAMPLERATE) + max_length\n",
    "    ] # -> Shape (TIMESTEPS, ELECTRODES)\n",
    "\n",
    "    # ecog = np.concatenate([ecog_lfb, ecog_hfb], axis=1)\n",
    "    ecog = ecog_hfb\n",
    "\n",
    "    ecog = ecog[:, selected_electrodes]\n",
    "    ecog = ecog.T.flatten()\n",
    "    \n",
    "    data.append(ecog)\n",
    "    labels.append(interval.text)\n",
    "\n",
    "n_classes = len(np.unique(labels))\n",
    "print('Classes:', n_classes)\n",
    "data = np.array(data)\n",
    "labels = np.array(labels)\n",
    "\n",
    "counts = dict(zip(*np.unique([l for l in labels], return_counts=True)))\n",
    "print(counts)"
   ]
  },
  {
   "attachments": {},
   "cell_type": "markdown",
   "metadata": {},
   "source": [
    "## Train SVMs"
   ]
  },
  {
   "attachments": {},
   "cell_type": "markdown",
   "metadata": {},
   "source": [
    "Fit SVMs with cross validation:"
   ]
  },
  {
   "cell_type": "code",
   "execution_count": 93,
   "metadata": {},
   "outputs": [
    {
     "name": "stdout",
     "output_type": "stream",
     "text": [
      "Cross-validating with 40 splits:\n",
      "  Train Acc. : 1.0\n",
      "  Test Acc.  : 0.625\n"
     ]
    }
   ],
   "source": [
    "# Using `n_splits` equal to the total number of samples is equivalent to doing LOO\n",
    "crossval = KFold(n_splits=len(data))\n",
    "print(f'Cross-validating with {crossval.get_n_splits()} splits:')\n",
    "\n",
    "train_accs, test_accs = [], []\n",
    "\n",
    "for i, (train_index, test_index) in enumerate(crossval.split(data)):\n",
    "    X_train, X_test = data[train_index], data[test_index]\n",
    "    y_train, y_test = labels[train_index], labels[test_index]\n",
    "\n",
    "    clf = SVC(C=2.5)\n",
    "    clf.fit(X_train, y_train)\n",
    "\n",
    "    train_accs.append(clf.score(X_train, y_train))\n",
    "    test_accs.append(clf.score(X_test, y_test))\n",
    "\n",
    "train_acc = round(np.mean(train_accs), 4)\n",
    "test_acc = round(np.mean(test_accs), 4)\n",
    "print('  Train Acc. :', train_acc)\n",
    "print('  Test Acc.  :', test_acc)"
   ]
  },
  {
   "attachments": {},
   "cell_type": "markdown",
   "metadata": {},
   "source": [
    "## Results Collection"
   ]
  },
  {
   "cell_type": "code",
   "execution_count": null,
   "metadata": {},
   "outputs": [],
   "source": [
    "# Short words that occur more often\n",
    "# maar vs. zijn (47c): 1.0 0.883\n",
    "# maar vs. niet (47c): 1.0 0.8404\n",
    "# zijn vs. niet (65c): 1.0 0.6308 \n",
    "# zijn vs. niet vs. maar (47c): 1.0 0.6738\n",
    "\n",
    "# Long words\n",
    "# perkamentus vs. anderling (26c): 1.0 0.9615 \n",
    "# perkamentus vs. professor (33c): 1.0 0.8939\n",
    "# professor vs. anderling (26c): 1.0 1.0\n",
    "# professor vs. anderling vs. perkamentus (26c): 1.0 0.9231\n",
    "# professor vs. anderling vs. perkamentus vs. meneer vs. mevrouw (20c): 1.0 0.74\n",
    "# meneer vs. mevrouw (20c): 1.0 0.625"
   ]
  },
  {
   "cell_type": "code",
   "execution_count": 16,
   "metadata": {},
   "outputs": [],
   "source": [
    "# Results of using different thresholds on the minimum no. of occurrences \n",
    "# required for a class to be incorporated into the fit \n",
    "# (using the 55 intersection words):\n",
    "\n",
    "# WITHOUT Undersampling:\n",
    "# Threshold, Classes, Train, Test\n",
    "# 1, 53, 1.0, 0.1117\n",
    "# 2, 34, 1.0, 0.1243\n",
    "# 3, 23, 1.0, 0.1429\n",
    "# 4, 19, 1.0, 0.1556\n",
    "# 5, 15, 1.0, 0.1765\n",
    "# 6, 12, 1.0, 0.2019\n",
    "# 7, 10, 1.0, 0.2283\n",
    "# 8,  6, 1.0, 0.3281\n",
    "# 9,  3, 1.0, 0.575\n",
    "# 10, 2, 1.0, 0.7419\n",
    "\n",
    "# WITH Undersampling:\n",
    "# Threshold, Classes, Train, Test\n",
    "# 1, 53, 1.0, 0.0\n",
    "# 2, 34, 1.0, 0.0\n",
    "# 3, 23, 1.0, 0.0\n",
    "# 4, 19, 1.0, 0.0395\n",
    "# 5, 15, 1.0, 0.08\n",
    "# 6, 12, 1.0, 0.0417\n",
    "# 7, 10, 1.0, 0.0571\n",
    "# 8,  6, 1.0, 0.2917\n",
    "# 9,  3, 1.0, 0.4444\n",
    "# 13, 2, 1.0, 0.6538"
   ]
  },
  {
   "attachments": {},
   "cell_type": "markdown",
   "metadata": {},
   "source": [
    "## Misc."
   ]
  },
  {
   "attachments": {},
   "cell_type": "markdown",
   "metadata": {},
   "source": [
    "Here we can randomly sample an interval and load the appropriate audio to check if the intervals are correctly aligned"
   ]
  },
  {
   "cell_type": "code",
   "execution_count": 188,
   "metadata": {},
   "outputs": [
    {
     "name": "stdout",
     "output_type": "stream",
     "text": [
      "goed\n"
     ]
    },
    {
     "data": {
      "text/html": [
       "\n",
       "                <audio  controls=\"controls\" >\n",
       "                    <source src=\"data:audio/wav;base64,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\" type=\"audio/wav\" />\n",
       "                    Your browser does not support the audio element.\n",
       "                </audio>\n",
       "              "
      ],
      "text/plain": [
       "<IPython.lib.display.Audio object>"
      ]
     },
     "execution_count": 188,
     "metadata": {},
     "output_type": "execute_result"
    }
   ],
   "source": [
    "# The audio file of the recording\n",
    "audio_samplerate, audio_signal = wavread(\n",
    "    subj_dir / f'sub-00{SUB}_ses-iemu_acq-ECOG_run-0{run}_audio_pitch_shifted.wav')\n",
    "\n",
    "interval =  intervals[np.random.choice(len(intervals))]\n",
    "interval_sig = audio_signal[\n",
    "    int(interval.xmin * audio_samplerate) : \n",
    "    int(interval.xmax * audio_samplerate) \n",
    "]\n",
    "print(interval.text) \n",
    "ipd.Audio(interval_sig, rate=audio_samplerate)"
   ]
  }
 ],
 "metadata": {
  "kernelspec": {
   "display_name": "thesis",
   "language": "python",
   "name": "python3"
  },
  "language_info": {
   "codemirror_mode": {
    "name": "ipython",
    "version": 3
   },
   "file_extension": ".py",
   "mimetype": "text/x-python",
   "name": "python",
   "nbconvert_exporter": "python",
   "pygments_lexer": "ipython3",
   "version": "3.10.4"
  },
  "orig_nbformat": 4,
  "vscode": {
   "interpreter": {
    "hash": "4d1ffe79cb1702ec543d226cdf22b974fcf7118d916c6f3b6ca5e225593afd5c"
   }
  }
 },
 "nbformat": 4,
 "nbformat_minor": 2
}
