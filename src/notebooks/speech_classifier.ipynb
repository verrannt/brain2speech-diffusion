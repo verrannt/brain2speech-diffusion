{
 "cells": [
  {
   "attachments": {},
   "cell_type": "markdown",
   "metadata": {},
   "source": [
    "# Speech Classifier\n",
    "\n",
    "Notebook to train a simple MLP classifier to classify utterances in the VariaNTS data by word classes, including hyperparameter optimization using `RandomSearchCV`.\n",
    "\n",
    "This is used to obtain class probabilities as is required to compute the Inception Score."
   ]
  },
  {
   "cell_type": "code",
   "execution_count": null,
   "metadata": {},
   "outputs": [],
   "source": [
    "import os\n",
    "import pickle\n",
    "import sys\n",
    "from tqdm import tqdm\n",
    "\n",
    "sys.path.append('..') # append src/ directory\n",
    "\n",
    "import numpy as np\n",
    "import sklearn\n",
    "from sklearn.pipeline import Pipeline\n",
    "from sklearn.model_selection import train_test_split, RandomizedSearchCV\n",
    "from sklearn.neural_network import MLPClassifier\n",
    "\n",
    "from utils.inception_score import InceptionScore\n",
    "calculate_inception_score = InceptionScore.calculate_inception_score"
   ]
  },
  {
   "cell_type": "code",
   "execution_count": 3,
   "metadata": {},
   "outputs": [
    {
     "name": "stdout",
     "output_type": "stream",
     "text": [
      "env: CUDA_VISIBLE_DEVICES=0\n"
     ]
    }
   ],
   "source": [
    "%env CUDA_VISIBLE_DEVICES=0"
   ]
  },
  {
   "cell_type": "code",
   "execution_count": null,
   "metadata": {},
   "outputs": [],
   "source": [
    "dataset_path = \"../../data/VariaNTS/VariaNTS_words_16kHz_HP_synth_aug_flattened_fixed-length\"\n",
    "\n",
    "data, labels = [], []\n",
    "for fn in tqdm(os.listdir(dataset_path)):\n",
    "    if fn.endswith('.wav'):\n",
    "        label = fn.split('_')[1]\n",
    "        mfcc = InceptionScore.get_mfcc(os.path.join(dataset_path, fn))\n",
    "        data.append(mfcc)\n",
    "        labels.append(label)"
   ]
  },
  {
   "cell_type": "code",
   "execution_count": null,
   "metadata": {},
   "outputs": [],
   "source": [
    "X = np.array(data)\n",
    "y = np.array(labels)\n",
    "\n",
    "X = X.reshape(X.shape[0], -1)\n",
    "\n",
    "X_train, X_test, y_train, y_test = train_test_split(X, y, test_size=0.1)\n",
    "\n",
    "X_train.shape, X_test.shape, y_train.shape, y_test.shape"
   ]
  },
  {
   "cell_type": "code",
   "execution_count": null,
   "metadata": {},
   "outputs": [],
   "source": [
    "from scipy.stats import randint as sp_randint\n",
    "\n",
    "clf = MLPClassifier(max_iter=500)\n",
    "scaler = sklearn.preprocessing.StandardScaler()\n",
    "pipe = Pipeline([('scaler', scaler), ('mlp', clf)])\n",
    "\n",
    "param_dist = {\n",
    "    'mlp__hidden_layer_sizes': sp_randint(50, 500),\n",
    "    'mlp__activation': ['logistic', 'tanh', 'relu'],\n",
    "    'mlp__solver': ['sgd', 'adam', 'lbfgs'],\n",
    "    'mlp__alpha': [0.0001, 0.001, 0.01, 0.1],\n",
    "    'mlp__learning_rate': ['constant', 'adaptive', 'invscaling'],\n",
    "    'mlp__learning_rate_init': [0.0001, 0.001, 0.05, 0.01],\n",
    "    'mlp__batch_size': [180, 120, 90],\n",
    "}\n",
    "\n",
    "search = RandomizedSearchCV(\n",
    "    pipe, \n",
    "    param_distributions=param_dist, \n",
    "    n_iter=50,\n",
    "    n_jobs=16, \n",
    "    cv=5,\n",
    "    random_state=14,\n",
    "    verbose=3,\n",
    ")\n",
    "\n",
    "search.fit(X_train, y_train)"
   ]
  },
  {
   "cell_type": "code",
   "execution_count": null,
   "metadata": {},
   "outputs": [],
   "source": [
    "print(\"Best hyperparameters:\", search.best_params_)\n",
    "\n",
    "train_acc = search.score(X_train, y_train)\n",
    "test_acc = search.score(X_test, y_test)\n",
    "print('Train Acc.:', train_acc)\n",
    "print('Test Acc.:', test_acc)\n",
    "\n",
    "train_probs = search.predict_proba(X_train)\n",
    "test_probs = search.predict_proba(X_test)\n",
    "\n",
    "print('IS Train:', calculate_inception_score(train_probs))\n",
    "print('IS Test:',  calculate_inception_score(test_probs))"
   ]
  },
  {
   "cell_type": "code",
   "execution_count": null,
   "metadata": {},
   "outputs": [],
   "source": [
    "mlp_params = {'activation': 'logistic', 'alpha': 0.1, 'batch_size': 90, 'hidden_layer_sizes': 387, 'learning_rate': 'constant', 'learning_rate_init': 0.05, 'solver': 'sgd'}"
   ]
  },
  {
   "cell_type": "code",
   "execution_count": null,
   "metadata": {},
   "outputs": [],
   "source": [
    "clf = MLPClassifier(**mlp_params, max_iter=500)\n",
    "scaler = sklearn.preprocessing.StandardScaler()\n",
    "pipe = Pipeline([('scaler', scaler), ('mlp', clf)])\n",
    "\n",
    "pipe.fit(X_train, y_train)\n",
    "train_acc = pipe.score(X_train, y_train)\n",
    "val_acc = pipe.score(X_test, y_test)\n",
    "\n",
    "print(train_acc)\n",
    "print(val_acc)\n",
    "\n",
    "print(calculate_inception_score(pipe.predict_proba(X_train)))\n",
    "print(calculate_inception_score(pipe.predict_proba(X_test)))"
   ]
  },
  {
   "cell_type": "code",
   "execution_count": null,
   "metadata": {},
   "outputs": [],
   "source": [
    "with open('../../speech_classifier/speech_clf_pipeline_variants_aug.pickle', 'wb') as f:\n",
    "    pickle.dump(pipe, f, protocol=pickle.HIGHEST_PROTOCOL)"
   ]
  }
 ],
 "metadata": {
  "kernelspec": {
   "display_name": "diffwave",
   "language": "python",
   "name": "python3"
  },
  "language_info": {
   "codemirror_mode": {
    "name": "ipython",
    "version": 3
   },
   "file_extension": ".py",
   "mimetype": "text/x-python",
   "name": "python",
   "nbconvert_exporter": "python",
   "pygments_lexer": "ipython3",
   "version": "3.10.4"
  },
  "orig_nbformat": 4,
  "vscode": {
   "interpreter": {
    "hash": "9a17d9c9cbbc962de36b255476254331786dd384e23a24706cf6aa287aa1626b"
   }
  }
 },
 "nbformat": 4,
 "nbformat_minor": 2
}
